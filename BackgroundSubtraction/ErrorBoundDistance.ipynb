{
 "cells": [
  {
   "cell_type": "code",
   "execution_count": null,
   "metadata": {
    "collapsed": true
   },
   "outputs": [],
   "source": [
    "import numpy as np\n",
    "from skimage.measure import label, regionprops, find_contours\n",
    "import imageio\n",
    "import cv2\n",
    "import operator\n",
    "import math\n",
    "import matplotlib.pyplot as plt\n",
    "%matplotlib inline "
   ]
  },
  {
   "cell_type": "code",
   "execution_count": null,
   "metadata": {
    "collapsed": false
   },
   "outputs": [],
   "source": [
    "cent_track = np.load('RemiCentroidTracking.npz')\n",
    "pos_track = np.load('RemiPosition1')\n",
    "cent_xpts = np.asarray(cent_track[::2])\n",
    "cent_ypts = np.asarray(cent_track[1::2])\n",
    "pos_xpts = np.asarray(pos_track[::2])\n",
    "pos_ypts = np.asarray(pos_track[1::2])\n",
    "avg_xdiff = sum(abs(cent_xpts - pos_xpts))\n",
    "avg_ydiff = sum(abs(cent_ypts - pos_ypts))\n",
    "print (avg_xdiff)"
   ]
  },
  {
   "cell_type": "code",
   "execution_count": null,
   "metadata": {
    "collapsed": true
   },
   "outputs": [],
   "source": []
  }
 ],
 "metadata": {
  "anaconda-cloud": {},
  "kernelspec": {
   "display_name": "Python [Root]",
   "language": "python",
   "name": "Python [Root]"
  },
  "language_info": {
   "codemirror_mode": {
    "name": "ipython",
    "version": 3
   },
   "file_extension": ".py",
   "mimetype": "text/x-python",
   "name": "python",
   "nbconvert_exporter": "python",
   "pygments_lexer": "ipython3",
   "version": "3.5.2"
  }
 },
 "nbformat": 4,
 "nbformat_minor": 0
}
