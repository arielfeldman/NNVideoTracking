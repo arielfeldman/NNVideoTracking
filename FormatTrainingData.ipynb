{
 "cells": [
  {
   "cell_type": "code",
   "execution_count": 5,
   "metadata": {},
   "outputs": [],
   "source": [
    "import numpy as np"
   ]
  },
  {
   "cell_type": "code",
   "execution_count": 7,
   "metadata": {},
   "outputs": [
    {
     "data": {
      "text/plain": [
       "['tl', 'br', 'headpos']"
      ]
     },
     "execution_count": 7,
     "metadata": {},
     "output_type": "execute_result"
    }
   ],
   "source": [
    "npzfile = np.load(\"/home/kemerelab/Ariel/NNTrackingVids/12-22-2016-1round2.npz\")\n",
    "npzfile.files"
   ]
  },
  {
   "cell_type": "code",
   "execution_count": 8,
   "metadata": {},
   "outputs": [],
   "source": [
    "topleft = npzfile['tl']\n",
    "bottomright = npzfile['br']"
   ]
  },
  {
   "cell_type": "code",
   "execution_count": 9,
   "metadata": {},
   "outputs": [
    {
     "data": {
      "text/plain": [
       "((297, 2), (297, 2))"
      ]
     },
     "execution_count": 9,
     "metadata": {},
     "output_type": "execute_result"
    }
   ],
   "source": [
    "topleft.shape,bottomright.shape"
   ]
  },
  {
   "cell_type": "code",
   "execution_count": 10,
   "metadata": {},
   "outputs": [
    {
     "data": {
      "text/plain": [
       "array([389, 522, 613, 600, 562, 559, 514, 476, 435, 438, 424, 301, 301,\n",
       "       284, 225, 210, 132, 193, 215, 244, 185, 204, 236, 216, 230, 278,\n",
       "       415, 453, 476, 472, 426, 395, 259, 142, 280, 409, 408, 551, 543,\n",
       "       303, 139, 250, 257, 250, 250, 281, 330, 500, 490, 463, 488, 535,\n",
       "       573, 564, 563, 624, 590, 586, 514, 312, 266, 338, 560, 564, 555,\n",
       "       457, 449, 236, 257, 238, 412, 569, 580, 602, 603, 608, 613, 615,\n",
       "       614, 462, 426, 471, 447, 471, 542, 510, 322, 292, 286, 321, 428,\n",
       "       341, 346, 359, 375, 440, 266, 230, 269, 228, 226, 152, 250, 328,\n",
       "       354, 398, 155, 147, 250, 265, 337, 483, 593, 543, 547, 584, 577,\n",
       "       600, 510, 509, 504, 509, 505, 511, 480, 510, 534, 507, 500, 511,\n",
       "       513, 500, 515, 507, 517, 523, 511, 510, 528, 493, 485, 463, 476,\n",
       "       466, 452, 425, 425, 440, 432, 353, 400, 463, 480, 482, 630, 578,\n",
       "       513, 486, 528, 538, 450, 423, 460, 500, 539, 614, 561, 505, 528,\n",
       "       523, 557, 536, 546, 614, 593, 477, 483, 489, 331, 240, 330, 383,\n",
       "       381, 392, 421, 476, 476, 436, 416, 427, 544, 585, 607, 581, 464,\n",
       "       404, 358, 302, 330, 367, 315, 415, 565, 463, 454, 467, 468, 473,\n",
       "       480, 480, 476, 465, 493, 484, 505, 557, 562, 511, 529, 531, 536,\n",
       "       533, 532, 531, 525, 539, 545, 515, 531, 537, 535, 543, 543, 533,\n",
       "       531, 531, 529, 540, 530, 559, 567, 551, 530, 461, 433, 441, 447,\n",
       "       432, 439, 431, 429, 448, 428, 430, 447, 443, 431, 439, 433, 440,\n",
       "       444, 443, 444, 442, 434, 426, 474, 437, 431, 448, 435, 440, 448,\n",
       "       452, 450, 433, 435, 465, 498, 473, 493, 487, 395, 371, 377, 383,\n",
       "       371, 361, 362, 364, 347, 306, 179, 138, 154, 185, 131])"
      ]
     },
     "execution_count": 10,
     "metadata": {},
     "output_type": "execute_result"
    }
   ],
   "source": [
    "topleft[:,1]"
   ]
  },
  {
   "cell_type": "code",
   "execution_count": 11,
   "metadata": {},
   "outputs": [
    {
     "name": "stdout",
     "output_type": "stream",
     "text": [
      "moo000000\n",
      "moo000001\n",
      "moo000002\n",
      "moo000003\n",
      "moo000004\n",
      "moo000005\n",
      "moo000006\n",
      "moo000007\n",
      "moo000008\n",
      "moo000009\n",
      "moo000010\n",
      "moo000011\n"
     ]
    }
   ],
   "source": [
    "for i in range(12):\n",
    "    print(\"moo{:06d}\".format(i))"
   ]
  },
  {
   "cell_type": "code",
   "execution_count": 13,
   "metadata": {},
   "outputs": [
    {
     "data": {
      "text/plain": [
       "array([622, 347])"
      ]
     },
     "execution_count": 13,
     "metadata": {},
     "output_type": "execute_result"
    }
   ],
   "source": [
    "topleft[290]"
   ]
  },
  {
   "cell_type": "code",
   "execution_count": 18,
   "metadata": {},
   "outputs": [],
   "source": [
    "#xml formatting\n",
    "for i in range(0, topleft.shape[0]):\n",
    "    f = open(\"/home/kemerelab/Ariel/darkflow/LongEvansdevkit/LongEvans/Annotations/{:06d}.xml\".format(i+416+1),\"w+\")\n",
    "    f.write(\"<annotation>\\n\")\n",
    "    f.write(\"\\t<folder>LongEvans</folder>\\n\")\n",
    "    f.write(\"\\t<filename>{:06d}.jpg</filename>\\n\".format(i+1))\n",
    "    f.write(\"\\t<size>\\n\")\n",
    "    f.write(\"\\t\\t<width>1280</width>\\n\")\n",
    "    f.write(\"\\t\\t<height>720</height>\\n\")\n",
    "    f.write(\"\\t\\t<depth>3</depth>\\n\")\n",
    "    f.write(\"\\t</size>\\n\")\n",
    "    f.write(\"\\t<object>\\n\")\n",
    "    f.write(\"\\t\\t<name>rat</name>\\n\")\n",
    "    f.write(\"\\t\\t<bndbox>\\n\")\n",
    "    f.write(\"\\t\\t\\t<xmin>{:d}</xmin>\\n\".format(topleft[i,0]))\n",
    "    f.write(\"\\t\\t\\t<ymin>{:d}</ymin>\\n\".format(topleft[i,1]))\n",
    "    f.write(\"\\t\\t\\t<xmax>{:d}</xmax>\\n\".format(bottomright[i,0]))\n",
    "    f.write(\"\\t\\t\\t<ymax>{:d}</ymax>\\n\".format(bottomright[i,1]))\n",
    "    f.write(\"\\t\\t</bndbox>\\n\")\n",
    "    f.write(\"\\t</object>\\n\")\n",
    "    f.write(\"</annotation>\")\n",
    "    f.close()"
   ]
  },
  {
   "cell_type": "code",
   "execution_count": null,
   "metadata": {},
   "outputs": [],
   "source": [
    "\""
   ]
  },
  {
   "cell_type": "code",
   "execution_count": 9,
   "metadata": {},
   "outputs": [],
   "source": [
    "#saving frames of video as jpgs\n",
    "import cv2\n",
    "import imageio\n",
    "from tqdm import tqdm\n"
   ]
  },
  {
   "cell_type": "code",
   "execution_count": 10,
   "metadata": {},
   "outputs": [],
   "source": [
    "import scipy.misc"
   ]
  },
  {
   "cell_type": "code",
   "execution_count": 11,
   "metadata": {
    "scrolled": true
   },
   "outputs": [
    {
     "name": "stderr",
     "output_type": "stream",
     "text": [
      "0it [00:00, ?it/s]/home/kemerelab/anaconda3/lib/python3.5/site-packages/ipykernel/__main__.py:5: DeprecationWarning: `imsave` is deprecated!\n",
      "`imsave` is deprecated in SciPy 1.0.0, and will be removed in 1.2.0.\n",
      "Use ``imageio.imwrite`` instead.\n",
      "915it [00:27, 33.68it/s]\n"
     ]
    }
   ],
   "source": [
    "reader = imageio.get_reader(\"/home/kemerelab/Ariel/NNVideoTracking/BackgroundSubtraction/test-out.mp4\")\n",
    "cnt=713\n",
    "for i, im in tqdm(enumerate(reader)):\n",
    "    cnt+=1\n",
    "    scipy.misc.imsave(\"/home/kemerelab/Ariel/darkflow/LongEvansdevkit/LongEvans/JPEGImages/{:06d}.jpg\".format(cnt), im)"
   ]
  },
  {
   "cell_type": "code",
   "execution_count": 31,
   "metadata": {},
   "outputs": [],
   "source": [
    "#just checking real quick!\n",
    "from PIL import Image, ImageDraw\n",
    "im = Image.open(\"/home/kemerelab/Ariel/darkflow/LongEvansdevkit/LongEvans/JPEGImages/000650.jpg\")\n",
    "draw = ImageDraw.Draw(im)\n",
    "draw.rectangle([(583,533),(667,680)])\n",
    "im.show()"
   ]
  },
  {
   "cell_type": "code",
   "execution_count": null,
   "metadata": {},
   "outputs": [],
   "source": []
  }
 ],
 "metadata": {
  "kernelspec": {
   "display_name": "Python [default]",
   "language": "python",
   "name": "python3"
  },
  "language_info": {
   "codemirror_mode": {
    "name": "ipython",
    "version": 3
   },
   "file_extension": ".py",
   "mimetype": "text/x-python",
   "name": "python",
   "nbconvert_exporter": "python",
   "pygments_lexer": "ipython3",
   "version": "3.5.4"
  }
 },
 "nbformat": 4,
 "nbformat_minor": 2
}
